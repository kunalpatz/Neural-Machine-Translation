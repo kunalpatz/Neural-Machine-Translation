{
  "nbformat": 4,
  "nbformat_minor": 0,
  "metadata": {
    "colab": {
      "name": "NMT16k.ipynb",
      "provenance": [],
      "collapsed_sections": []
    },
    "kernelspec": {
      "name": "python3",
      "display_name": "Python 3"
    },
    "accelerator": "GPU"
  },
  "cells": [
    {
      "cell_type": "code",
      "metadata": {
        "colab": {
          "base_uri": "https://localhost:8080/"
        },
        "id": "IGgFLg8yLyNR",
        "outputId": "99acd03f-1235-4fc8-efbe-b1d8dd5045c4"
      },
      "source": [
        "!git clone -b r1 https://github.com/OpenNMT/OpenNMT-tf.git"
      ],
      "execution_count": null,
      "outputs": [
        {
          "output_type": "stream",
          "text": [
            "Cloning into 'OpenNMT-tf'...\n",
            "remote: Enumerating objects: 800, done.\u001b[K\n",
            "remote: Counting objects: 100% (800/800), done.\u001b[K\n",
            "remote: Compressing objects: 100% (471/471), done.\u001b[K\n",
            "remote: Total 27877 (delta 566), reused 419 (delta 321), pack-reused 27077\u001b[K\n",
            "Receiving objects: 100% (27877/27877), 18.99 MiB | 29.11 MiB/s, done.\n",
            "Resolving deltas: 100% (23124/23124), done.\n"
          ],
          "name": "stdout"
        }
      ]
    },
    {
      "cell_type": "code",
      "metadata": {
        "id": "upDnXHKfQhFT"
      },
      "source": [
        "filenames = ['ep7_train.en', 'EMEA_train.en']\r\n",
        "with open('train.en', 'w') as outfile:\r\n",
        "    for fname in filenames:\r\n",
        "        with open(fname) as infile:\r\n",
        "            for line in infile:\r\n",
        "                outfile.write(line)"
      ],
      "execution_count": null,
      "outputs": []
    },
    {
      "cell_type": "code",
      "metadata": {
        "id": "5q8i-bI4QhX4"
      },
      "source": [
        "filenames = ['ep7_train.fr', 'EMEA_train.fr']\r\n",
        "with open('train.fr', 'w') as outfile:\r\n",
        "    for fname in filenames:\r\n",
        "        with open(fname) as infile:\r\n",
        "            for line in infile:\r\n",
        "                outfile.write(line)"
      ],
      "execution_count": null,
      "outputs": []
    },
    {
      "cell_type": "code",
      "metadata": {
        "id": "2M9x-aAzL1ZF"
      },
      "source": [
        "pip install OpenNMT-tf[tensorflow_gpu]==1.*"
      ],
      "execution_count": null,
      "outputs": []
    },
    {
      "cell_type": "code",
      "metadata": {
        "id": "Ya3P0oWzMk0V"
      },
      "source": [
        "!python OpenNMT-tf/third_party/learn_bpe.py -i train.fr -o fr.code -s 16000"
      ],
      "execution_count": null,
      "outputs": []
    },
    {
      "cell_type": "code",
      "metadata": {
        "id": "Lc1-ysgdRHJJ"
      },
      "source": [
        "!python OpenNMT-tf/third_party/learn_bpe.py -i train.en -o en.code -s 16000"
      ],
      "execution_count": null,
      "outputs": []
    },
    {
      "cell_type": "code",
      "metadata": {
        "id": "CEZNGS0l5-Sk"
      },
      "source": [
        "!python OpenNMT-tf/third_party/learn_bpe.py -i train.fr -o 32k_fr.code -s 32000"
      ],
      "execution_count": null,
      "outputs": []
    },
    {
      "cell_type": "code",
      "metadata": {
        "id": "G-PmAK0g5-k8"
      },
      "source": [
        "!python OpenNMT-tf/third_party/learn_bpe.py -i train.en -o 32k_en.code -s 32000"
      ],
      "execution_count": null,
      "outputs": []
    },
    {
      "cell_type": "code",
      "metadata": {
        "id": "GsP1YEJt5-q4"
      },
      "source": [
        "!python OpenNMT-tf/third_party/learn_bpe.py -i train.fr -o 48k_fr.code -s 48000"
      ],
      "execution_count": null,
      "outputs": []
    },
    {
      "cell_type": "code",
      "metadata": {
        "id": "N0L78XRj5-tW"
      },
      "source": [
        "!python OpenNMT-tf/third_party/learn_bpe.py -i train.en -o 48k_en.code -s 48000"
      ],
      "execution_count": null,
      "outputs": []
    },
    {
      "cell_type": "code",
      "metadata": {
        "id": "3sclpZg15-2N"
      },
      "source": [
        ""
      ],
      "execution_count": null,
      "outputs": []
    },
    {
      "cell_type": "code",
      "metadata": {
        "id": "xT2AwpBy5-6J"
      },
      "source": [
        ""
      ],
      "execution_count": null,
      "outputs": []
    },
    {
      "cell_type": "code",
      "metadata": {
        "id": "zcTIBFwkSfQ-"
      },
      "source": [
        "! python OpenNMT-tf/third_party/apply_bpe.py -c fr.code -i  train.fr -o my_model_directory/train.fr.bpe"
      ],
      "execution_count": null,
      "outputs": []
    },
    {
      "cell_type": "code",
      "metadata": {
        "id": "RNT7jN5xS1JW"
      },
      "source": [
        "!python OpenNMT-tf/third_party/apply_bpe.py -c  en.code -i  train.en -o my_model_directory/train.en.bpe"
      ],
      "execution_count": null,
      "outputs": []
    },
    {
      "cell_type": "code",
      "metadata": {
        "id": "RE0DjbhL9Pgv"
      },
      "source": [
        "! python OpenNMT-tf/third_party/apply_bpe.py -c  32k_fr.code -i  train.fr -o my_model_directory/32k_train.fr.bpe"
      ],
      "execution_count": null,
      "outputs": []
    },
    {
      "cell_type": "code",
      "metadata": {
        "id": "I35KX8C89Po6"
      },
      "source": [
        "!python OpenNMT-tf/third_party/apply_bpe.py -c  32k_en.code -i  train.en -o my_model_directory/32k_train.en.bpe"
      ],
      "execution_count": null,
      "outputs": []
    },
    {
      "cell_type": "code",
      "metadata": {
        "id": "HbxkwJk89P0I"
      },
      "source": [
        "! python OpenNMT-tf/third_party/apply_bpe.py -c  48k_fr.code -i  train.fr -o my_model_directory/48k_train.fr.bpe"
      ],
      "execution_count": null,
      "outputs": []
    },
    {
      "cell_type": "code",
      "metadata": {
        "id": "hKVMAiiS9P60"
      },
      "source": [
        "!python OpenNMT-tf/third_party/apply_bpe.py -c  48k_en.code -i  train.en -o my_model_directory/48k_train.en.bpe"
      ],
      "execution_count": null,
      "outputs": []
    },
    {
      "cell_type": "code",
      "metadata": {
        "id": "k4-_jXc49QPR"
      },
      "source": [
        ""
      ],
      "execution_count": null,
      "outputs": []
    },
    {
      "cell_type": "code",
      "metadata": {
        "id": "JYm-4Ej49QVB"
      },
      "source": [
        ""
      ],
      "execution_count": null,
      "outputs": []
    },
    {
      "cell_type": "markdown",
      "metadata": {
        "id": "JIhIi-2i9J87"
      },
      "source": [
        ""
      ]
    },
    {
      "cell_type": "code",
      "metadata": {
        "id": "6S_uhz5xS1Pz"
      },
      "source": [
        "!python OpenNMT-tf/third_party/apply_bpe.py -c  fr.code -i  EMEA_dev.fr -o my_model_directory/EMEA_dev.fr.bpe"
      ],
      "execution_count": null,
      "outputs": []
    },
    {
      "cell_type": "code",
      "metadata": {
        "id": "o4ciB3EvS1di"
      },
      "source": [
        "!python OpenNMT-tf/third_party/apply_bpe.py -c  en.code -i  EMEA_dev.en -o my_model_directory/EMEA_dev.en.bpe"
      ],
      "execution_count": null,
      "outputs": []
    },
    {
      "cell_type": "code",
      "metadata": {
        "id": "-D8lYoQYTZO2"
      },
      "source": [
        "!python OpenNMT-tf/third_party/apply_bpe.py -c  fr.code -i  ep7_dev.fr -o my_model_directory/ep7_dev.fr.bpe"
      ],
      "execution_count": null,
      "outputs": []
    },
    {
      "cell_type": "code",
      "metadata": {
        "id": "A0uI-bdGUxYd"
      },
      "source": [
        "!python OpenNMT-tf/third_party/apply_bpe.py -c  en.code -i  ep7_dev.en -o my_model_directory/ep7_dev.en.bpe"
      ],
      "execution_count": null,
      "outputs": []
    },
    {
      "cell_type": "code",
      "metadata": {
        "id": "zofRwFx1Uxb5"
      },
      "source": [
        "!python OpenNMT-tf/third_party/apply_bpe.py -c  fr.code -i  EMEA_tst.fr -o my_model_directory/EMEA_tst.fr.bpe"
      ],
      "execution_count": null,
      "outputs": []
    },
    {
      "cell_type": "code",
      "metadata": {
        "id": "ZSmapKYAUxfB"
      },
      "source": [
        "!python OpenNMT-tf/third_party/apply_bpe.py -c  en.code -i  EMEA_tst.en -o my_model_directory/EMEA_tst.en.bpe"
      ],
      "execution_count": null,
      "outputs": []
    },
    {
      "cell_type": "code",
      "metadata": {
        "id": "xhf9haIuUxiN"
      },
      "source": [
        "!python OpenNMT-tf/third_party/apply_bpe.py -c  fr.code -i  ep7_tst.fr -o my_model_directory/ep7_tst.fr.bpe"
      ],
      "execution_count": null,
      "outputs": []
    },
    {
      "cell_type": "code",
      "metadata": {
        "id": "1CX0uQtqVZJ8"
      },
      "source": [
        "!python OpenNMT-tf/third_party/apply_bpe.py -c  en.code -i  ep7_tst.en -o my_model_directory/ep7_tst.en.bpe"
      ],
      "execution_count": null,
      "outputs": []
    },
    {
      "cell_type": "markdown",
      "metadata": {
        "id": "DqxQwakRVhzK"
      },
      "source": [
        "# VOCAB"
      ]
    },
    {
      "cell_type": "code",
      "metadata": {
        "id": "Ju5gDYAIVc7h"
      },
      "source": [
        "!onmt-build-vocab --size 50000 --save_vocab my_model_directory/vocab.fr my_model_directory/train.fr.bpe"
      ],
      "execution_count": null,
      "outputs": []
    },
    {
      "cell_type": "code",
      "metadata": {
        "id": "xReaw_2FXMei"
      },
      "source": [
        "!onmt-build-vocab --size 50000 --save_vocab my_model_directory/vocab.en my_model_directory/train.en.bpe"
      ],
      "execution_count": null,
      "outputs": []
    },
    {
      "cell_type": "code",
      "metadata": {
        "id": "xwgH6ZOu-qT4"
      },
      "source": [
        "!onmt-build-vocab --size 50000 --save_vocab my_model_directory/32k_vocab.fr my_model_directory/32k_train.fr.bpe"
      ],
      "execution_count": null,
      "outputs": []
    },
    {
      "cell_type": "code",
      "metadata": {
        "id": "mOShro8O-qfk"
      },
      "source": [
        "!onmt-build-vocab --size 50000 --save_vocab my_model_directory/32k_vocab.en my_model_directory/32k_train.en.bpe"
      ],
      "execution_count": null,
      "outputs": []
    },
    {
      "cell_type": "code",
      "metadata": {
        "id": "lt0XvN9q-qqA"
      },
      "source": [
        "!onmt-build-vocab --size 50000 --save_vocab my_model_directory/48k_vocab.fr my_model_directory/48k_train.fr.bpe"
      ],
      "execution_count": null,
      "outputs": []
    },
    {
      "cell_type": "code",
      "metadata": {
        "id": "pyoV_8Xl-q1W"
      },
      "source": [
        "!onmt-build-vocab --size 50000 --save_vocab my_model_directory/48k_vocab.en my_model_directory/48k_train.en.bpe"
      ],
      "execution_count": null,
      "outputs": []
    },
    {
      "cell_type": "markdown",
      "metadata": {
        "id": "d3dEHf-CYACx"
      },
      "source": [
        "# Train and Transformer Model"
      ]
    },
    {
      "cell_type": "code",
      "metadata": {
        "id": "ReCyASlbXr83"
      },
      "source": [
        "!onmt-main train_and_eval --model_type Transformer --auto_config --config data.yml --num_gpus 1 "
      ],
      "execution_count": null,
      "outputs": []
    },
    {
      "cell_type": "markdown",
      "metadata": {
        "id": "FjMerMMLYmkH"
      },
      "source": [
        "# Translate"
      ]
    },
    {
      "cell_type": "markdown",
      "metadata": {
        "id": "e75aTU3yRKdp"
      },
      "source": [
        "Translation"
      ]
    },
    {
      "cell_type": "code",
      "metadata": {
        "id": "Qy5AhNFZqaNG"
      },
      "source": [
        "!onmt-main infer --auto_config --config data.yml --features_file my_model_directory/ep7_tst.fr.bpe \\\r\n",
        "--predictions_file my_model_directory/ep7_hyp.en.bpe --checkpoint_path my_model_directory/run/model.ckpt-500"
      ],
      "execution_count": null,
      "outputs": []
    },
    {
      "cell_type": "code",
      "metadata": {
        "id": "zkiL7CxV1b2U"
      },
      "source": [
        "cat my_model_directory/ep7_hyp.en.bpe | sed \"s/@@ //g\" > my_model_directory/ep7_hyp.en"
      ],
      "execution_count": null,
      "outputs": []
    },
    {
      "cell_type": "code",
      "metadata": {
        "colab": {
          "base_uri": "https://localhost:8080/"
        },
        "id": "-esm_IkU1fnk",
        "outputId": "8411016c-5861-473a-ce39-f0d3b17a1b09"
      },
      "source": [
        "!perl OpenNMT-tf/third_party/multi-bleu.perl ep7_tst.en < my_model_directory/ep7_hyp.en"
      ],
      "execution_count": null,
      "outputs": [
        {
          "output_type": "stream",
          "text": [
            "Use of uninitialized value in division (/) at OpenNMT-tf/third_party/multi-bleu.perl line 139, <STDIN> line 500.\n",
            "Use of uninitialized value in division (/) at OpenNMT-tf/third_party/multi-bleu.perl line 139, <STDIN> line 500.\n",
            "BLEU = 6.10, 1.5/0.2/0.0/0.0 (BP=0.437, ratio=9.568, hyp_len=95620, ref_len=9994)\n",
            "It is in-advisable to publish scores from multi-bleu.perl.  The scores depend on your tokenizer, which is unlikely to be reproducible from your paper or consistent across research groups.  Instead you should detokenize then use mteval-v14.pl, which has a standard tokenization.  Scores from multi-bleu.perl can still be used for internal purposes when you have a consistent tokenizer.\n"
          ],
          "name": "stdout"
        }
      ]
    },
    {
      "cell_type": "code",
      "metadata": {
        "id": "XDpoU9uAOioz"
      },
      "source": [
        ""
      ],
      "execution_count": null,
      "outputs": []
    },
    {
      "cell_type": "markdown",
      "metadata": {
        "id": "JBm2UGyN3qVA"
      },
      "source": [
        ""
      ]
    },
    {
      "cell_type": "code",
      "metadata": {
        "id": "Tr05X0ZQauNo"
      },
      "source": [
        "!onmt-main score --auto_config --config data.yml --features_file my_model_directory/ep7_tst.fr.bpe \\\r\n",
        "--predictions_file my_model_directory/ep7_hyp.en.bpe --checkpoint_path my_model_directory/run/model.ckpt-1800"
      ],
      "execution_count": null,
      "outputs": []
    },
    {
      "cell_type": "code",
      "metadata": {
        "id": "dduS8HeUXs-3"
      },
      "source": [
        "while True: pass"
      ],
      "execution_count": null,
      "outputs": []
    },
    {
      "cell_type": "markdown",
      "metadata": {
        "id": "vKlf9tvUsHB4"
      },
      "source": [
        "# Train 32K"
      ]
    },
    {
      "cell_type": "code",
      "metadata": {
        "id": "WaYS9-6TsI3f"
      },
      "source": [
        "!python OpenNMT-tf/third_party/learn_bpe.py -i train.fr -o 32k_fr.code -s 32000"
      ],
      "execution_count": null,
      "outputs": []
    },
    {
      "cell_type": "code",
      "metadata": {
        "id": "TzB4-pF6seyW"
      },
      "source": [
        "!python OpenNMT-tf/third_party/learn_bpe.py -i train.en -o 32k_en.code -s 32000"
      ],
      "execution_count": null,
      "outputs": []
    },
    {
      "cell_type": "markdown",
      "metadata": {
        "id": "ZzgCav6ItZr3"
      },
      "source": [
        "Other Files"
      ]
    },
    {
      "cell_type": "code",
      "metadata": {
        "id": "chTDLkpRtdZx"
      },
      "source": [
        "!python OpenNMT-tf/third_party/apply_bpe.py -c  32k_fr.code -i  EMEA_dev.fr -o my_model_directory/32k_EMEA_dev.fr.bpe"
      ],
      "execution_count": null,
      "outputs": []
    },
    {
      "cell_type": "code",
      "metadata": {
        "id": "gzGjKCK3tdZz"
      },
      "source": [
        "!python OpenNMT-tf/third_party/apply_bpe.py -c  32k_en.code -i  EMEA_dev.en -o my_model_directory/32k_EMEA_dev.en.bpe"
      ],
      "execution_count": null,
      "outputs": []
    },
    {
      "cell_type": "code",
      "metadata": {
        "id": "Yv6aNOyItdZz"
      },
      "source": [
        "!python OpenNMT-tf/third_party/apply_bpe.py -c  32k_fr.code -i  ep7_dev.fr -o my_model_directory/32k_ep7_dev.fr.bpe"
      ],
      "execution_count": null,
      "outputs": []
    },
    {
      "cell_type": "code",
      "metadata": {
        "id": "a1jaAEsNtdZ0"
      },
      "source": [
        "!python OpenNMT-tf/third_party/apply_bpe.py -c  32k_en.code -i  ep7_dev.en -o my_model_directory/32k_ep7_dev.en.bpe"
      ],
      "execution_count": null,
      "outputs": []
    },
    {
      "cell_type": "code",
      "metadata": {
        "id": "ZIy_eC0PtdZ0"
      },
      "source": [
        "!python OpenNMT-tf/third_party/apply_bpe.py -c  32k_fr.code -i  EMEA_tst.fr -o my_model_directory/32k_EMEA_tst.fr.bpe"
      ],
      "execution_count": null,
      "outputs": []
    },
    {
      "cell_type": "code",
      "metadata": {
        "id": "UqeaK_C7tdZ1"
      },
      "source": [
        "!python OpenNMT-tf/third_party/apply_bpe.py -c  32k_en.code -i  EMEA_tst.en -o my_model_directory/32k_EMEA_tst.en.bpe"
      ],
      "execution_count": null,
      "outputs": []
    },
    {
      "cell_type": "code",
      "metadata": {
        "id": "3h95ct4RtdZ2"
      },
      "source": [
        "!python OpenNMT-tf/third_party/apply_bpe.py -c  32k_fr.code -i  ep7_tst.fr -o my_model_directory/32k_ep7_tst.fr.bpe"
      ],
      "execution_count": null,
      "outputs": []
    },
    {
      "cell_type": "code",
      "metadata": {
        "id": "VDQzmuGntdZ2"
      },
      "source": [
        "!python OpenNMT-tf/third_party/apply_bpe.py -c  32k_en.code -i  ep7_tst.en -o my_model_directory/32k_ep7_tst.en.bpe"
      ],
      "execution_count": null,
      "outputs": []
    },
    {
      "cell_type": "code",
      "metadata": {
        "id": "57W-oPZCtc5J"
      },
      "source": [
        ""
      ],
      "execution_count": null,
      "outputs": []
    },
    {
      "cell_type": "code",
      "metadata": {
        "id": "w4X9Z7E8sinR"
      },
      "source": [
        "! python OpenNMT-tf/third_party/apply_bpe.py -c  32k_fr.code -i  train.fr -o my_model_directory/32k_train.fr.bpe"
      ],
      "execution_count": null,
      "outputs": []
    },
    {
      "cell_type": "code",
      "metadata": {
        "id": "flhCbLRislVH"
      },
      "source": [
        "!python OpenNMT-tf/third_party/apply_bpe.py -c  32k_en.code -i  train.en -o my_model_directory/32k_train.en.bpe"
      ],
      "execution_count": null,
      "outputs": []
    },
    {
      "cell_type": "code",
      "metadata": {
        "id": "ljbWbfypspfa"
      },
      "source": [
        "!onmt-build-vocab --size 50000 --save_vocab my_model_directory/32k_vocab.fr my_model_directory/32k_train.fr.bpe"
      ],
      "execution_count": null,
      "outputs": []
    },
    {
      "cell_type": "code",
      "metadata": {
        "id": "1XEidNpHspiE"
      },
      "source": [
        "!onmt-build-vocab --size 50000 --save_vocab my_model_directory/32k_vocab.en my_model_directory/32k_train.en.bpe"
      ],
      "execution_count": null,
      "outputs": []
    },
    {
      "cell_type": "markdown",
      "metadata": {
        "id": "bRzUWzCzuYB7"
      },
      "source": [
        "Train"
      ]
    },
    {
      "cell_type": "code",
      "metadata": {
        "id": "6FzKLDCMsplQ"
      },
      "source": [
        "!onmt-main train_and_eval --model_type Transformer --auto_config --config data_32k.yml --num_gpus 1"
      ],
      "execution_count": null,
      "outputs": []
    },
    {
      "cell_type": "code",
      "metadata": {
        "id": "z7YVbuupyzNL"
      },
      "source": [
        ""
      ],
      "execution_count": null,
      "outputs": []
    },
    {
      "cell_type": "code",
      "metadata": {
        "id": "CTICJ-sNyzyP"
      },
      "source": [
        "!onmt-main infer --auto_config --config data_32k.yml --features_file my_model_directory/32k_ep7_tst.fr.bpe \\\r\n",
        "--predictions_file my_model_directory/32k_ep7_hyp.en.bpe --checkpoint_path my_model_directory/run_32k/model.ckpt-0"
      ],
      "execution_count": null,
      "outputs": []
    },
    {
      "cell_type": "code",
      "metadata": {
        "id": "UqzSNQl6yzyP"
      },
      "source": [
        "cat my_model_directory/32k_ep7_hyp.en.bpe | sed \"s/@@ //g\" > my_model_directory/32k_ep7_hyp.en"
      ],
      "execution_count": null,
      "outputs": []
    },
    {
      "cell_type": "code",
      "metadata": {
        "colab": {
          "base_uri": "https://localhost:8080/"
        },
        "id": "yL2_cKbKyzyQ",
        "outputId": "627a5417-6279-4314-e622-88cef8477fbb"
      },
      "source": [
        "!perl OpenNMT-tf/third_party/multi-bleu.perl ep7_tst.en < my_model_directory/32k_ep7_hyp.en"
      ],
      "execution_count": null,
      "outputs": [
        {
          "output_type": "stream",
          "text": [
            "Use of uninitialized value in division (/) at OpenNMT-tf/third_party/multi-bleu.perl line 139, <STDIN> line 500.\n",
            "Use of uninitialized value in division (/) at OpenNMT-tf/third_party/multi-bleu.perl line 139, <STDIN> line 500.\n",
            "Use of uninitialized value in division (/) at OpenNMT-tf/third_party/multi-bleu.perl line 139, <STDIN> line 500.\n",
            "BLEU = 15.42, 0.0/0.0/0.0/0.0 (BP=0.214, ratio=9.214, hyp_len=92088, ref_len=9994)\n",
            "It is in-advisable to publish scores from multi-bleu.perl.  The scores depend on your tokenizer, which is unlikely to be reproducible from your paper or consistent across research groups.  Instead you should detokenize then use mteval-v14.pl, which has a standard tokenization.  Scores from multi-bleu.perl can still be used for internal purposes when you have a consistent tokenizer.\n"
          ],
          "name": "stdout"
        }
      ]
    },
    {
      "cell_type": "markdown",
      "metadata": {
        "id": "jVcpc0vK3vPx"
      },
      "source": [
        "# 48 K"
      ]
    },
    {
      "cell_type": "code",
      "metadata": {
        "id": "BLTStDf13xX3"
      },
      "source": [
        ""
      ],
      "execution_count": null,
      "outputs": []
    },
    {
      "cell_type": "code",
      "metadata": {
        "id": "Vct2TXd-32Ph"
      },
      "source": [
        "!python OpenNMT-tf/third_party/learn_bpe.py -i train.fr -o 48k_fr.code -s 48000"
      ],
      "execution_count": null,
      "outputs": []
    },
    {
      "cell_type": "code",
      "metadata": {
        "id": "Y6W1dCmp32Pi"
      },
      "source": [
        "!python OpenNMT-tf/third_party/learn_bpe.py -i train.en -o 48k_en.code -s 48000"
      ],
      "execution_count": null,
      "outputs": []
    },
    {
      "cell_type": "markdown",
      "metadata": {
        "id": "1vEIYMyp32Pi"
      },
      "source": [
        "Other Files"
      ]
    },
    {
      "cell_type": "code",
      "metadata": {
        "id": "6bjAHbEx32Pk"
      },
      "source": [
        "!python OpenNMT-tf/third_party/apply_bpe.py -c  48k_fr.code -i  EMEA_dev.fr -o my_model_directory/48k_EMEA_dev.fr.bpe"
      ],
      "execution_count": null,
      "outputs": []
    },
    {
      "cell_type": "code",
      "metadata": {
        "id": "aKylC4jX32Pk"
      },
      "source": [
        "!python OpenNMT-tf/third_party/apply_bpe.py -c  48k_en.code -i  EMEA_dev.en -o my_model_directory/48k_EMEA_dev.en.bpe"
      ],
      "execution_count": null,
      "outputs": []
    },
    {
      "cell_type": "code",
      "metadata": {
        "id": "SDa_PZpa32Pk"
      },
      "source": [
        "!python OpenNMT-tf/third_party/apply_bpe.py -c  48k_fr.code -i  ep7_dev.fr -o my_model_directory/48k_ep7_dev.fr.bpe"
      ],
      "execution_count": null,
      "outputs": []
    },
    {
      "cell_type": "code",
      "metadata": {
        "id": "6iO61igC32Pl"
      },
      "source": [
        "!python OpenNMT-tf/third_party/apply_bpe.py -c  48k_en.code -i  ep7_dev.en -o my_model_directory/48k_ep7_dev.en.bpe"
      ],
      "execution_count": null,
      "outputs": []
    },
    {
      "cell_type": "code",
      "metadata": {
        "id": "VPsopGBC32Pl"
      },
      "source": [
        "!python OpenNMT-tf/third_party/apply_bpe.py -c  48k_fr.code -i  EMEA_tst.fr -o my_model_directory/48k_EMEA_tst.fr.bpe"
      ],
      "execution_count": null,
      "outputs": []
    },
    {
      "cell_type": "code",
      "metadata": {
        "id": "Hk2dJwub32Pm"
      },
      "source": [
        "!python OpenNMT-tf/third_party/apply_bpe.py -c  48k_en.code -i  EMEA_tst.en -o my_model_directory/48k_EMEA_tst.en.bpe"
      ],
      "execution_count": null,
      "outputs": []
    },
    {
      "cell_type": "code",
      "metadata": {
        "id": "wQv8h2CC32Pm"
      },
      "source": [
        "!python OpenNMT-tf/third_party/apply_bpe.py -c  48k_fr.code -i  ep7_tst.fr -o my_model_directory/48k_ep7_tst.fr.bpe"
      ],
      "execution_count": null,
      "outputs": []
    },
    {
      "cell_type": "code",
      "metadata": {
        "id": "yg_9ox3332Pn"
      },
      "source": [
        "!python OpenNMT-tf/third_party/apply_bpe.py -c  48k_en.code -i  ep7_tst.en -o my_model_directory/48k_ep7_tst.en.bpe"
      ],
      "execution_count": null,
      "outputs": []
    },
    {
      "cell_type": "code",
      "metadata": {
        "id": "xnc5s2Nn32Pn"
      },
      "source": [
        ""
      ],
      "execution_count": null,
      "outputs": []
    },
    {
      "cell_type": "code",
      "metadata": {
        "id": "fPJi785-32Pn"
      },
      "source": [
        "! python OpenNMT-tf/third_party/apply_bpe.py -c  48k_fr.code -i  train.fr -o my_model_directory/48k_train.fr.bpe"
      ],
      "execution_count": null,
      "outputs": []
    },
    {
      "cell_type": "code",
      "metadata": {
        "id": "TB_KICMU32Po"
      },
      "source": [
        "!python OpenNMT-tf/third_party/apply_bpe.py -c  48k_en.code -i  train.en -o my_model_directory/48k_train.en.bpe"
      ],
      "execution_count": null,
      "outputs": []
    },
    {
      "cell_type": "code",
      "metadata": {
        "id": "dZKNR06j32Po"
      },
      "source": [
        "!onmt-build-vocab --size 50000 --save_vocab my_model_directory/48k_vocab.fr my_model_directory/48k_train.fr.bpe"
      ],
      "execution_count": null,
      "outputs": []
    },
    {
      "cell_type": "code",
      "metadata": {
        "id": "_RagrOs432Po"
      },
      "source": [
        "!onmt-build-vocab --size 50000 --save_vocab my_model_directory/48k_vocab.en my_model_directory/48k_train.en.bpe"
      ],
      "execution_count": null,
      "outputs": []
    },
    {
      "cell_type": "markdown",
      "metadata": {
        "id": "shVT7a1U32Pp"
      },
      "source": [
        "Train"
      ]
    },
    {
      "cell_type": "code",
      "metadata": {
        "id": "Ngvzf65Z32Pq"
      },
      "source": [
        "!onmt-main train_and_eval --model_type Transformer --auto_config --config data_48k.yml --num_gpus 1"
      ],
      "execution_count": null,
      "outputs": []
    },
    {
      "cell_type": "code",
      "metadata": {
        "id": "DnLppd3u32Pq"
      },
      "source": [
        ""
      ],
      "execution_count": null,
      "outputs": []
    },
    {
      "cell_type": "code",
      "metadata": {
        "id": "cegoBHKK32Pq"
      },
      "source": [
        "!onmt-main infer --auto_config --config data_48k.yml --features_file my_model_directory/48k_ep7_tst.fr.bpe \\\r\n",
        "--predictions_file my_model_directory/48k_ep7_hyp.en.bpe --checkpoint_path my_model_directory/run_48k/model.ckpt-0"
      ],
      "execution_count": null,
      "outputs": []
    },
    {
      "cell_type": "code",
      "metadata": {
        "id": "8T13piLT32Pq"
      },
      "source": [
        "cat my_model_directory/48k_ep7_hyp.en.bpe | sed \"s/@@ //g\" > my_model_directory/48k_ep7_hyp.en"
      ],
      "execution_count": null,
      "outputs": []
    },
    {
      "cell_type": "code",
      "metadata": {
        "colab": {
          "base_uri": "https://localhost:8080/"
        },
        "id": "OE58lpch32Pq",
        "outputId": "a16d3061-90a6-4e5d-f3d1-48a913809523"
      },
      "source": [
        "!perl OpenNMT-tf/third_party/multi-bleu.perl ep7_tst.en < my_model_directory/32k_ep7_hyp.en"
      ],
      "execution_count": null,
      "outputs": [
        {
          "output_type": "stream",
          "text": [
            "Use of uninitialized value in division (/) at OpenNMT-tf/third_party/multi-bleu.perl line 139, <STDIN> line 500.\n",
            "Use of uninitialized value in division (/) at OpenNMT-tf/third_party/multi-bleu.perl line 139, <STDIN> line 500.\n",
            "Use of uninitialized value in division (/) at OpenNMT-tf/third_party/multi-bleu.perl line 139, <STDIN> line 500.\n",
            "BLEU = 1.90, 0.0/0.0/0.0/0.0 (BP=0.897, ratio=9.214, hyp_len=92088, ref_len=9994)\n",
            "It is in-advisable to publish scores from multi-bleu.perl.  The scores depend on your tokenizer, which is unlikely to be reproducible from your paper or consistent across research groups.  Instead you should detokenize then use mteval-v14.pl, which has a standard tokenization.  Scores from multi-bleu.perl can still be used for internal purposes when you have a consistent tokenizer.\n"
          ],
          "name": "stdout"
        }
      ]
    },
    {
      "cell_type": "code",
      "metadata": {
        "colab": {
          "base_uri": "https://localhost:8080/",
          "height": 136
        },
        "id": "7qF_aMn1QyNH",
        "outputId": "1a427d43-e1fc-417c-adfb-b1af9838a2e9"
      },
      "source": [
        "th tools/score.lua"
      ],
      "execution_count": null,
      "outputs": [
        {
          "output_type": "error",
          "ename": "SyntaxError",
          "evalue": "ignored",
          "traceback": [
            "\u001b[0;36m  File \u001b[0;32m\"<ipython-input-104-036653960602>\"\u001b[0;36m, line \u001b[0;32m1\u001b[0m\n\u001b[0;31m    th tools/score.lua\u001b[0m\n\u001b[0m           ^\u001b[0m\n\u001b[0;31mSyntaxError\u001b[0m\u001b[0;31m:\u001b[0m invalid syntax\n"
          ]
        }
      ]
    }
  ]
}